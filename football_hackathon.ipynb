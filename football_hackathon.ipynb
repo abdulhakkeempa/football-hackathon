{
  "nbformat": 4,
  "nbformat_minor": 0,
  "metadata": {
    "colab": {
      "name": "football_hackathon.ipynb",
      "provenance": [],
      "collapsed_sections": []
    },
    "kernelspec": {
      "name": "python3",
      "display_name": "Python 3"
    },
    "language_info": {
      "name": "python"
    }
  },
  "cells": [
    {
      "cell_type": "code",
      "execution_count": null,
      "metadata": {
        "id": "AcP-mWTr2Ka7"
      },
      "outputs": [],
      "source": [
        "import pandas as pd\n",
        "\n",
        "#test data\n",
        "df = pd.read_csv(\"test.csv\")"
      ]
    },
    {
      "cell_type": "code",
      "source": [
        "#train data\n",
        "trainData = pd.read_csv(\"train.csv\")"
      ],
      "metadata": {
        "id": "lI4WhnMc2xNj"
      },
      "execution_count": 71,
      "outputs": []
    },
    {
      "cell_type": "code",
      "source": [
        "df.shape"
      ],
      "metadata": {
        "colab": {
          "base_uri": "https://localhost:8080/"
        },
        "id": "lvo-UbOs2uwA",
        "outputId": "97fcf104-000b-4502-9af3-9b2bee04983a"
      },
      "execution_count": 3,
      "outputs": [
        {
          "output_type": "execute_result",
          "data": {
            "text/plain": [
              "(977, 799)"
            ]
          },
          "metadata": {},
          "execution_count": 3
        }
      ]
    },
    {
      "cell_type": "code",
      "source": [
        "trainData.shape"
      ],
      "metadata": {
        "colab": {
          "base_uri": "https://localhost:8080/"
        },
        "id": "WU5wmDdR21bW",
        "outputId": "6af6b3bc-5e4d-49e1-a331-6c34529b6dc3"
      },
      "execution_count": 6,
      "outputs": [
        {
          "output_type": "execute_result",
          "data": {
            "text/plain": [
              "(1565, 800)"
            ]
          },
          "metadata": {},
          "execution_count": 6
        }
      ]
    },
    {
      "cell_type": "code",
      "source": [
        "df.columns"
      ],
      "metadata": {
        "colab": {
          "base_uri": "https://localhost:8080/"
        },
        "id": "HPW1tbq62_0w",
        "outputId": "02d5389b-8554-4e0f-d7e0-603e0b74dbe5"
      },
      "execution_count": 9,
      "outputs": [
        {
          "output_type": "execute_result",
          "data": {
            "text/plain": [
              "Index(['row_id', 'scout_id', 'winner', 'team', 'competitionId',\n",
              "       'player_position_1', 'player_position_2', 'player_height',\n",
              "       'player_weight', 'player_general_var_0',\n",
              "       ...\n",
              "       'team2_defensive_derived_var_10', 'team2_offensive_derived_var_11',\n",
              "       'team2_offensive_derived_var_12', 'team2_offensive_derived_var_13',\n",
              "       'team2_offensive_derived_var_14', 'team2_defensive_derived_var_15',\n",
              "       'team2_offensive_derived_var_16', 'team2_defensive_derived_var_17',\n",
              "       'team2_offensive_derived_var_18', 'team2_offensive_derived_var_19'],\n",
              "      dtype='object', length=799)"
            ]
          },
          "metadata": {},
          "execution_count": 9
        }
      ]
    },
    {
      "cell_type": "code",
      "source": [
        "df.describe()"
      ],
      "metadata": {
        "colab": {
          "base_uri": "https://localhost:8080/",
          "height": 394
        },
        "id": "LFWb254d3ONh",
        "outputId": "e59e0265-ec9b-4b4d-85f8-142945eb4ff0"
      },
      "execution_count": 10,
      "outputs": [
        {
          "output_type": "execute_result",
          "data": {
            "text/plain": [
              "             row_id    scout_id  competitionId  player_position_1  \\\n",
              "count    977.000000  977.000000     976.000000         972.000000   \n",
              "mean   15503.052201    9.746162       7.702869           7.601852   \n",
              "std     8554.318560    5.844032       2.559213           5.005138   \n",
              "min       31.000000    1.000000       4.000000           1.000000   \n",
              "25%     7957.000000    3.000000       5.000000           3.000000   \n",
              "50%    15485.000000   12.000000       8.000000           7.000000   \n",
              "75%    23416.000000   15.000000      10.000000          11.000000   \n",
              "max    29217.000000   26.000000      15.000000          19.000000   \n",
              "\n",
              "       player_position_2  player_height  player_weight  player_general_var_0  \\\n",
              "count         972.000000     971.000000     971.000000            977.000000   \n",
              "mean            8.066872       0.475246       0.441668              0.022723   \n",
              "std             4.831523       0.160387       0.136477              0.070823   \n",
              "min             1.000000       0.024390       0.080000              0.000000   \n",
              "25%             4.000000       0.365854       0.340000              0.000000   \n",
              "50%             8.000000       0.487805       0.440000              0.000000   \n",
              "75%            11.000000       0.585366       0.540000              0.000000   \n",
              "max            19.000000       0.926829       0.960000              0.600000   \n",
              "\n",
              "       player_general_var_1  player_general_var_2  ...  \\\n",
              "count            977.000000            977.000000  ...   \n",
              "mean               0.003071              0.077558  ...   \n",
              "std                0.055356              0.208033  ...   \n",
              "min                0.000000              0.000000  ...   \n",
              "25%                0.000000              0.000000  ...   \n",
              "50%                0.000000              0.000000  ...   \n",
              "75%                0.000000              0.000000  ...   \n",
              "max                1.000000              0.931373  ...   \n",
              "\n",
              "       team2_defensive_derived_var_10  team2_offensive_derived_var_11  \\\n",
              "count                      932.000000                      964.000000   \n",
              "mean                         0.350484                        0.183400   \n",
              "std                          0.138600                        0.051459   \n",
              "min                          0.044690                        0.000000   \n",
              "25%                          0.252150                        0.158441   \n",
              "50%                          0.336220                        0.185168   \n",
              "75%                          0.437188                        0.213575   \n",
              "max                          0.962835                        0.327644   \n",
              "\n",
              "       team2_offensive_derived_var_12  team2_offensive_derived_var_13  \\\n",
              "count                      932.000000                      932.000000   \n",
              "mean                         0.250304                        0.589959   \n",
              "std                          0.141133                        0.148559   \n",
              "min                          0.000000                        0.167333   \n",
              "25%                          0.144848                        0.504685   \n",
              "50%                          0.239565                        0.601515   \n",
              "75%                          0.339664                        0.696028   \n",
              "max                          1.000000                        0.961453   \n",
              "\n",
              "       team2_offensive_derived_var_14  team2_defensive_derived_var_15  \\\n",
              "count                      932.000000                      932.000000   \n",
              "mean                         0.475202                        0.494072   \n",
              "std                          0.157951                        0.138302   \n",
              "min                          0.000000                        0.103969   \n",
              "25%                          0.372855                        0.402952   \n",
              "50%                          0.474806                        0.496212   \n",
              "75%                          0.582188                        0.590547   \n",
              "max                          0.929935                        0.950173   \n",
              "\n",
              "       team2_offensive_derived_var_16  team2_defensive_derived_var_17  \\\n",
              "count                      932.000000                      932.000000   \n",
              "mean                         0.110878                        0.422114   \n",
              "std                          0.063267                        0.103268   \n",
              "min                          0.009267                        0.044144   \n",
              "25%                          0.065681                        0.357396   \n",
              "50%                          0.099121                        0.420916   \n",
              "75%                          0.141996                        0.484863   \n",
              "max                          0.390436                        1.000000   \n",
              "\n",
              "       team2_offensive_derived_var_18  team2_offensive_derived_var_19  \n",
              "count                      932.000000                      932.000000  \n",
              "mean                         0.415516                        0.335455  \n",
              "std                          0.114618                        0.141565  \n",
              "min                          0.060391                        0.000000  \n",
              "25%                          0.339706                        0.231764  \n",
              "50%                          0.414720                        0.320256  \n",
              "75%                          0.492406                        0.437457  \n",
              "max                          0.750036                        0.875000  \n",
              "\n",
              "[8 rows x 797 columns]"
            ],
            "text/html": [
              "\n",
              "  <div id=\"df-f1037f64-b37b-4c3f-a39c-cde55008f008\">\n",
              "    <div class=\"colab-df-container\">\n",
              "      <div>\n",
              "<style scoped>\n",
              "    .dataframe tbody tr th:only-of-type {\n",
              "        vertical-align: middle;\n",
              "    }\n",
              "\n",
              "    .dataframe tbody tr th {\n",
              "        vertical-align: top;\n",
              "    }\n",
              "\n",
              "    .dataframe thead th {\n",
              "        text-align: right;\n",
              "    }\n",
              "</style>\n",
              "<table border=\"1\" class=\"dataframe\">\n",
              "  <thead>\n",
              "    <tr style=\"text-align: right;\">\n",
              "      <th></th>\n",
              "      <th>row_id</th>\n",
              "      <th>scout_id</th>\n",
              "      <th>competitionId</th>\n",
              "      <th>player_position_1</th>\n",
              "      <th>player_position_2</th>\n",
              "      <th>player_height</th>\n",
              "      <th>player_weight</th>\n",
              "      <th>player_general_var_0</th>\n",
              "      <th>player_general_var_1</th>\n",
              "      <th>player_general_var_2</th>\n",
              "      <th>...</th>\n",
              "      <th>team2_defensive_derived_var_10</th>\n",
              "      <th>team2_offensive_derived_var_11</th>\n",
              "      <th>team2_offensive_derived_var_12</th>\n",
              "      <th>team2_offensive_derived_var_13</th>\n",
              "      <th>team2_offensive_derived_var_14</th>\n",
              "      <th>team2_defensive_derived_var_15</th>\n",
              "      <th>team2_offensive_derived_var_16</th>\n",
              "      <th>team2_defensive_derived_var_17</th>\n",
              "      <th>team2_offensive_derived_var_18</th>\n",
              "      <th>team2_offensive_derived_var_19</th>\n",
              "    </tr>\n",
              "  </thead>\n",
              "  <tbody>\n",
              "    <tr>\n",
              "      <th>count</th>\n",
              "      <td>977.000000</td>\n",
              "      <td>977.000000</td>\n",
              "      <td>976.000000</td>\n",
              "      <td>972.000000</td>\n",
              "      <td>972.000000</td>\n",
              "      <td>971.000000</td>\n",
              "      <td>971.000000</td>\n",
              "      <td>977.000000</td>\n",
              "      <td>977.000000</td>\n",
              "      <td>977.000000</td>\n",
              "      <td>...</td>\n",
              "      <td>932.000000</td>\n",
              "      <td>964.000000</td>\n",
              "      <td>932.000000</td>\n",
              "      <td>932.000000</td>\n",
              "      <td>932.000000</td>\n",
              "      <td>932.000000</td>\n",
              "      <td>932.000000</td>\n",
              "      <td>932.000000</td>\n",
              "      <td>932.000000</td>\n",
              "      <td>932.000000</td>\n",
              "    </tr>\n",
              "    <tr>\n",
              "      <th>mean</th>\n",
              "      <td>15503.052201</td>\n",
              "      <td>9.746162</td>\n",
              "      <td>7.702869</td>\n",
              "      <td>7.601852</td>\n",
              "      <td>8.066872</td>\n",
              "      <td>0.475246</td>\n",
              "      <td>0.441668</td>\n",
              "      <td>0.022723</td>\n",
              "      <td>0.003071</td>\n",
              "      <td>0.077558</td>\n",
              "      <td>...</td>\n",
              "      <td>0.350484</td>\n",
              "      <td>0.183400</td>\n",
              "      <td>0.250304</td>\n",
              "      <td>0.589959</td>\n",
              "      <td>0.475202</td>\n",
              "      <td>0.494072</td>\n",
              "      <td>0.110878</td>\n",
              "      <td>0.422114</td>\n",
              "      <td>0.415516</td>\n",
              "      <td>0.335455</td>\n",
              "    </tr>\n",
              "    <tr>\n",
              "      <th>std</th>\n",
              "      <td>8554.318560</td>\n",
              "      <td>5.844032</td>\n",
              "      <td>2.559213</td>\n",
              "      <td>5.005138</td>\n",
              "      <td>4.831523</td>\n",
              "      <td>0.160387</td>\n",
              "      <td>0.136477</td>\n",
              "      <td>0.070823</td>\n",
              "      <td>0.055356</td>\n",
              "      <td>0.208033</td>\n",
              "      <td>...</td>\n",
              "      <td>0.138600</td>\n",
              "      <td>0.051459</td>\n",
              "      <td>0.141133</td>\n",
              "      <td>0.148559</td>\n",
              "      <td>0.157951</td>\n",
              "      <td>0.138302</td>\n",
              "      <td>0.063267</td>\n",
              "      <td>0.103268</td>\n",
              "      <td>0.114618</td>\n",
              "      <td>0.141565</td>\n",
              "    </tr>\n",
              "    <tr>\n",
              "      <th>min</th>\n",
              "      <td>31.000000</td>\n",
              "      <td>1.000000</td>\n",
              "      <td>4.000000</td>\n",
              "      <td>1.000000</td>\n",
              "      <td>1.000000</td>\n",
              "      <td>0.024390</td>\n",
              "      <td>0.080000</td>\n",
              "      <td>0.000000</td>\n",
              "      <td>0.000000</td>\n",
              "      <td>0.000000</td>\n",
              "      <td>...</td>\n",
              "      <td>0.044690</td>\n",
              "      <td>0.000000</td>\n",
              "      <td>0.000000</td>\n",
              "      <td>0.167333</td>\n",
              "      <td>0.000000</td>\n",
              "      <td>0.103969</td>\n",
              "      <td>0.009267</td>\n",
              "      <td>0.044144</td>\n",
              "      <td>0.060391</td>\n",
              "      <td>0.000000</td>\n",
              "    </tr>\n",
              "    <tr>\n",
              "      <th>25%</th>\n",
              "      <td>7957.000000</td>\n",
              "      <td>3.000000</td>\n",
              "      <td>5.000000</td>\n",
              "      <td>3.000000</td>\n",
              "      <td>4.000000</td>\n",
              "      <td>0.365854</td>\n",
              "      <td>0.340000</td>\n",
              "      <td>0.000000</td>\n",
              "      <td>0.000000</td>\n",
              "      <td>0.000000</td>\n",
              "      <td>...</td>\n",
              "      <td>0.252150</td>\n",
              "      <td>0.158441</td>\n",
              "      <td>0.144848</td>\n",
              "      <td>0.504685</td>\n",
              "      <td>0.372855</td>\n",
              "      <td>0.402952</td>\n",
              "      <td>0.065681</td>\n",
              "      <td>0.357396</td>\n",
              "      <td>0.339706</td>\n",
              "      <td>0.231764</td>\n",
              "    </tr>\n",
              "    <tr>\n",
              "      <th>50%</th>\n",
              "      <td>15485.000000</td>\n",
              "      <td>12.000000</td>\n",
              "      <td>8.000000</td>\n",
              "      <td>7.000000</td>\n",
              "      <td>8.000000</td>\n",
              "      <td>0.487805</td>\n",
              "      <td>0.440000</td>\n",
              "      <td>0.000000</td>\n",
              "      <td>0.000000</td>\n",
              "      <td>0.000000</td>\n",
              "      <td>...</td>\n",
              "      <td>0.336220</td>\n",
              "      <td>0.185168</td>\n",
              "      <td>0.239565</td>\n",
              "      <td>0.601515</td>\n",
              "      <td>0.474806</td>\n",
              "      <td>0.496212</td>\n",
              "      <td>0.099121</td>\n",
              "      <td>0.420916</td>\n",
              "      <td>0.414720</td>\n",
              "      <td>0.320256</td>\n",
              "    </tr>\n",
              "    <tr>\n",
              "      <th>75%</th>\n",
              "      <td>23416.000000</td>\n",
              "      <td>15.000000</td>\n",
              "      <td>10.000000</td>\n",
              "      <td>11.000000</td>\n",
              "      <td>11.000000</td>\n",
              "      <td>0.585366</td>\n",
              "      <td>0.540000</td>\n",
              "      <td>0.000000</td>\n",
              "      <td>0.000000</td>\n",
              "      <td>0.000000</td>\n",
              "      <td>...</td>\n",
              "      <td>0.437188</td>\n",
              "      <td>0.213575</td>\n",
              "      <td>0.339664</td>\n",
              "      <td>0.696028</td>\n",
              "      <td>0.582188</td>\n",
              "      <td>0.590547</td>\n",
              "      <td>0.141996</td>\n",
              "      <td>0.484863</td>\n",
              "      <td>0.492406</td>\n",
              "      <td>0.437457</td>\n",
              "    </tr>\n",
              "    <tr>\n",
              "      <th>max</th>\n",
              "      <td>29217.000000</td>\n",
              "      <td>26.000000</td>\n",
              "      <td>15.000000</td>\n",
              "      <td>19.000000</td>\n",
              "      <td>19.000000</td>\n",
              "      <td>0.926829</td>\n",
              "      <td>0.960000</td>\n",
              "      <td>0.600000</td>\n",
              "      <td>1.000000</td>\n",
              "      <td>0.931373</td>\n",
              "      <td>...</td>\n",
              "      <td>0.962835</td>\n",
              "      <td>0.327644</td>\n",
              "      <td>1.000000</td>\n",
              "      <td>0.961453</td>\n",
              "      <td>0.929935</td>\n",
              "      <td>0.950173</td>\n",
              "      <td>0.390436</td>\n",
              "      <td>1.000000</td>\n",
              "      <td>0.750036</td>\n",
              "      <td>0.875000</td>\n",
              "    </tr>\n",
              "  </tbody>\n",
              "</table>\n",
              "<p>8 rows × 797 columns</p>\n",
              "</div>\n",
              "      <button class=\"colab-df-convert\" onclick=\"convertToInteractive('df-f1037f64-b37b-4c3f-a39c-cde55008f008')\"\n",
              "              title=\"Convert this dataframe to an interactive table.\"\n",
              "              style=\"display:none;\">\n",
              "        \n",
              "  <svg xmlns=\"http://www.w3.org/2000/svg\" height=\"24px\"viewBox=\"0 0 24 24\"\n",
              "       width=\"24px\">\n",
              "    <path d=\"M0 0h24v24H0V0z\" fill=\"none\"/>\n",
              "    <path d=\"M18.56 5.44l.94 2.06.94-2.06 2.06-.94-2.06-.94-.94-2.06-.94 2.06-2.06.94zm-11 1L8.5 8.5l.94-2.06 2.06-.94-2.06-.94L8.5 2.5l-.94 2.06-2.06.94zm10 10l.94 2.06.94-2.06 2.06-.94-2.06-.94-.94-2.06-.94 2.06-2.06.94z\"/><path d=\"M17.41 7.96l-1.37-1.37c-.4-.4-.92-.59-1.43-.59-.52 0-1.04.2-1.43.59L10.3 9.45l-7.72 7.72c-.78.78-.78 2.05 0 2.83L4 21.41c.39.39.9.59 1.41.59.51 0 1.02-.2 1.41-.59l7.78-7.78 2.81-2.81c.8-.78.8-2.07 0-2.86zM5.41 20L4 18.59l7.72-7.72 1.47 1.35L5.41 20z\"/>\n",
              "  </svg>\n",
              "      </button>\n",
              "      \n",
              "  <style>\n",
              "    .colab-df-container {\n",
              "      display:flex;\n",
              "      flex-wrap:wrap;\n",
              "      gap: 12px;\n",
              "    }\n",
              "\n",
              "    .colab-df-convert {\n",
              "      background-color: #E8F0FE;\n",
              "      border: none;\n",
              "      border-radius: 50%;\n",
              "      cursor: pointer;\n",
              "      display: none;\n",
              "      fill: #1967D2;\n",
              "      height: 32px;\n",
              "      padding: 0 0 0 0;\n",
              "      width: 32px;\n",
              "    }\n",
              "\n",
              "    .colab-df-convert:hover {\n",
              "      background-color: #E2EBFA;\n",
              "      box-shadow: 0px 1px 2px rgba(60, 64, 67, 0.3), 0px 1px 3px 1px rgba(60, 64, 67, 0.15);\n",
              "      fill: #174EA6;\n",
              "    }\n",
              "\n",
              "    [theme=dark] .colab-df-convert {\n",
              "      background-color: #3B4455;\n",
              "      fill: #D2E3FC;\n",
              "    }\n",
              "\n",
              "    [theme=dark] .colab-df-convert:hover {\n",
              "      background-color: #434B5C;\n",
              "      box-shadow: 0px 1px 3px 1px rgba(0, 0, 0, 0.15);\n",
              "      filter: drop-shadow(0px 1px 2px rgba(0, 0, 0, 0.3));\n",
              "      fill: #FFFFFF;\n",
              "    }\n",
              "  </style>\n",
              "\n",
              "      <script>\n",
              "        const buttonEl =\n",
              "          document.querySelector('#df-f1037f64-b37b-4c3f-a39c-cde55008f008 button.colab-df-convert');\n",
              "        buttonEl.style.display =\n",
              "          google.colab.kernel.accessAllowed ? 'block' : 'none';\n",
              "\n",
              "        async function convertToInteractive(key) {\n",
              "          const element = document.querySelector('#df-f1037f64-b37b-4c3f-a39c-cde55008f008');\n",
              "          const dataTable =\n",
              "            await google.colab.kernel.invokeFunction('convertToInteractive',\n",
              "                                                     [key], {});\n",
              "          if (!dataTable) return;\n",
              "\n",
              "          const docLinkHtml = 'Like what you see? Visit the ' +\n",
              "            '<a target=\"_blank\" href=https://colab.research.google.com/notebooks/data_table.ipynb>data table notebook</a>'\n",
              "            + ' to learn more about interactive tables.';\n",
              "          element.innerHTML = '';\n",
              "          dataTable['output_type'] = 'display_data';\n",
              "          await google.colab.output.renderOutput(dataTable, element);\n",
              "          const docLink = document.createElement('div');\n",
              "          docLink.innerHTML = docLinkHtml;\n",
              "          element.appendChild(docLink);\n",
              "        }\n",
              "      </script>\n",
              "    </div>\n",
              "  </div>\n",
              "  "
            ]
          },
          "metadata": {},
          "execution_count": 10
        }
      ]
    },
    {
      "cell_type": "code",
      "source": [
        "df.isnull().sum()"
      ],
      "metadata": {
        "id": "q5Hb0C4E3eiZ"
      },
      "execution_count": null,
      "outputs": []
    },
    {
      "cell_type": "code",
      "source": [
        "df['competitionId'].isnull().unique()"
      ],
      "metadata": {
        "id": "fRbf7XF23xsh"
      },
      "execution_count": null,
      "outputs": []
    },
    {
      "cell_type": "code",
      "source": [
        "df.head()"
      ],
      "metadata": {
        "id": "yEZqre5j49dh"
      },
      "execution_count": null,
      "outputs": []
    },
    {
      "cell_type": "code",
      "source": [
        "df.isnull().sum()"
      ],
      "metadata": {
        "id": "EKH274VD5N80"
      },
      "execution_count": null,
      "outputs": []
    },
    {
      "cell_type": "code",
      "source": [
        "df.columns"
      ],
      "metadata": {
        "id": "XHPpZWoKN41R"
      },
      "execution_count": null,
      "outputs": []
    },
    {
      "cell_type": "code",
      "source": [
        "trainData.columns"
      ],
      "metadata": {
        "id": "pCRc36pNSTjL"
      },
      "execution_count": null,
      "outputs": []
    },
    {
      "cell_type": "code",
      "source": [
        "trainData.isnull().sum()"
      ],
      "metadata": {
        "colab": {
          "base_uri": "https://localhost:8080/"
        },
        "id": "6xEH4DHqSibZ",
        "outputId": "c121bb58-a994-48d8-b6e5-cbbb23cdd5b2"
      },
      "execution_count": 76,
      "outputs": [
        {
          "output_type": "execute_result",
          "data": {
            "text/plain": [
              "row_id                            0\n",
              "scout_id                          0\n",
              "rating_num                        0\n",
              "winner                            0\n",
              "team                              0\n",
              "                                 ..\n",
              "team2_defensive_derived_var_15    0\n",
              "team2_offensive_derived_var_16    0\n",
              "team2_defensive_derived_var_17    0\n",
              "team2_offensive_derived_var_18    0\n",
              "team2_offensive_derived_var_19    0\n",
              "Length: 800, dtype: int64"
            ]
          },
          "metadata": {},
          "execution_count": 76
        }
      ]
    },
    {
      "cell_type": "code",
      "source": [
        "trainData['team2_defensive_derived_var_15'] = trainData['team2_defensive_derived_var_15'].fillna(trainData['team2_defensive_derived_var_15'].mean())\n",
        "trainData['team2_offensive_derived_var_16'] = trainData['team2_offensive_derived_var_16'].fillna(trainData['team2_offensive_derived_var_16'].mean())\n",
        "trainData['team2_defensive_derived_var_17'] = trainData['team2_defensive_derived_var_17'].fillna(trainData['team2_defensive_derived_var_17'].mean())\n",
        "trainData['team2_offensive_derived_var_18'] = trainData['team2_offensive_derived_var_18'].fillna(trainData['team2_offensive_derived_var_18'].mean())\n",
        "trainData['team2_offensive_derived_var_19'] = trainData['team2_offensive_derived_var_19'].fillna(trainData['team2_offensive_derived_var_19'].mean())"
      ],
      "metadata": {
        "id": "vMyO2F5pTblE"
      },
      "execution_count": 75,
      "outputs": []
    }
  ]
}